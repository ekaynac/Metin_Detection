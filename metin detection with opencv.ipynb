{
 "cells": [
  {
   "cell_type": "code",
   "execution_count": 1,
   "metadata": {
    "Collapsed": "false"
   },
   "outputs": [],
   "source": [
    "import cv2\n",
    "import mss\n",
    "import numpy as np\n"
   ]
  },
  {
   "cell_type": "code",
   "execution_count": 2,
   "metadata": {
    "Collapsed": "false"
   },
   "outputs": [],
   "source": [
    "def skin_mask(img):\n",
    "    hsvim = cv2.cvtColor(img, cv2.COLOR_BGR2HSV)\n",
    "    lower = np.array([20, 40, 50], dtype = \"uint8\")\n",
    "    upper = np.array([70, 180, 160], dtype = \"uint8\")\n",
    "    skinRegionHSV = cv2.inRange(hsvim, lower, upper)\n",
    "    blurred = cv2.blur(skinRegionHSV, (2,2))\n",
    "    ret,thresh = cv2.threshold(blurred,0,255,cv2.THRESH_BINARY)\n",
    "    return thresh"
   ]
  },
  {
   "cell_type": "code",
   "execution_count": 3,
   "metadata": {
    "Collapsed": "false"
   },
   "outputs": [],
   "source": [
    "def contour(img,thresh):\n",
    "    contours, hierarchy = cv2.findContours(thresh, cv2.RETR_TREE, cv2.CHAIN_APPROX_SIMPLE)\n",
    "    contours = max(contours, key=lambda x: cv2.contourArea(x))\n",
    "    cv2.drawContours(img, [contours], -1, (255,255,0), 2)\n",
    "    return img"
   ]
  },
  {
   "cell_type": "code",
   "execution_count": 3,
   "metadata": {
    "Collapsed": "false"
   },
   "outputs": [],
   "source": [
    "\n",
    "\n",
    "with mss.mss() as sct:\n",
    "    # Part of the screen to capture\n",
    "    mon2 = sct.monitors[2]\n",
    "    monitor = {\"top\": mon2[\"top\"] +25 , \"left\": mon2[\"left\"] + 0, \"width\": 800, \"height\": 600}\n",
    "\n",
    "    while \"Screen capturing\":\n",
    "\n",
    "        # Get raw pixels from the screen, save it to a Numpy array\n",
    "        img = np.array(sct.grab(monitor))\n",
    "        #thresh = skin_mask(img)\n",
    "        #img = contour(img,thresh)\n",
    "        # Display the picture\n",
    "        cv2.imshow(\"OpenCV/Numpy normal\", img)\n",
    "        # Press \"q\" to quit\n",
    "        if cv2.waitKey(25) & 0xFF == ord(\"q\"):\n",
    "            cv2.destroyAllWindows()\n",
    "            break"
   ]
  },
  {
   "cell_type": "code",
   "execution_count": 5,
   "metadata": {
    "Collapsed": "false"
   },
   "outputs": [
    {
     "data": {
      "text/plain": [
       "(600, 800, 4)"
      ]
     },
     "execution_count": 5,
     "metadata": {},
     "output_type": "execute_result"
    }
   ],
   "source": [
    "img"
   ]
  },
  {
   "cell_type": "code",
   "execution_count": null,
   "metadata": {},
   "outputs": [],
   "source": []
  }
 ],
 "metadata": {
  "kernelspec": {
   "display_name": "Python 3 (ipykernel)",
   "language": "python",
   "name": "python3"
  },
  "language_info": {
   "codemirror_mode": {
    "name": "ipython",
    "version": 3
   },
   "file_extension": ".py",
   "mimetype": "text/x-python",
   "name": "python",
   "nbconvert_exporter": "python",
   "pygments_lexer": "ipython3",
   "version": "3.9.10"
  }
 },
 "nbformat": 4,
 "nbformat_minor": 4
}
